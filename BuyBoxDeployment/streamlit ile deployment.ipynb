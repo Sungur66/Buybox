{
 "cells": [
  {
   "cell_type": "markdown",
   "id": "86fadecd",
   "metadata": {},
   "source": [
    "Elbette, modelinizi Streamlit ile deploy edebilmeniz için adım adım bir rehber sunabilirim. Streamlit, Python tabanlı bir web uygulaması frameworküdür ve veri bilimi projelerini hızlı bir şekilde deploy etmek için idealdir.\n",
    "\n",
    "1. Gerekli Kütüphanelerin Yüklenmesi\n",
    "\n",
    "Öncelikle, gerekli kütüphaneleri yükleyin:"
   ]
  },
  {
   "cell_type": "code",
   "execution_count": 1,
   "id": "af38a3d0",
   "metadata": {
    "ExecuteTime": {
     "end_time": "2024-05-28T18:35:04.195774Z",
     "start_time": "2024-05-28T18:34:47.495503Z"
    }
   },
   "outputs": [
    {
     "name": "stdout",
     "output_type": "stream",
     "text": [
      "Collecting streamlit\n",
      "  Downloading streamlit-1.35.0-py2.py3-none-any.whl.metadata (8.5 kB)\n",
      "Requirement already satisfied: joblib in c:\\users\\nsgr6\\appdata\\local\\programs\\python\\python310\\lib\\site-packages (1.3.2)\n",
      "Requirement already satisfied: pandas in c:\\users\\nsgr6\\appdata\\local\\programs\\python\\python310\\lib\\site-packages (1.4.3)\n",
      "Requirement already satisfied: altair<6,>=4.0 in c:\\users\\nsgr6\\appdata\\local\\programs\\python\\python310\\lib\\site-packages (from streamlit) (5.2.0)\n",
      "Collecting blinker<2,>=1.0.0 (from streamlit)\n",
      "  Downloading blinker-1.8.2-py3-none-any.whl.metadata (1.6 kB)\n",
      "Requirement already satisfied: cachetools<6,>=4.0 in c:\\users\\nsgr6\\appdata\\local\\programs\\python\\python310\\lib\\site-packages (from streamlit) (5.3.2)\n",
      "Requirement already satisfied: click<9,>=7.0 in c:\\users\\nsgr6\\appdata\\roaming\\python\\python310\\site-packages (from streamlit) (8.1.7)\n",
      "Requirement already satisfied: numpy<2,>=1.19.3 in c:\\users\\nsgr6\\appdata\\local\\programs\\python\\python310\\lib\\site-packages (from streamlit) (1.26.3)\n",
      "Requirement already satisfied: packaging<25,>=16.8 in c:\\users\\nsgr6\\appdata\\roaming\\python\\python310\\site-packages (from streamlit) (23.1)\n",
      "Requirement already satisfied: pillow<11,>=7.1.0 in c:\\users\\nsgr6\\appdata\\local\\programs\\python\\python310\\lib\\site-packages (from streamlit) (10.0.0)\n",
      "Requirement already satisfied: protobuf<5,>=3.20 in c:\\users\\nsgr6\\appdata\\local\\programs\\python\\python310\\lib\\site-packages (from streamlit) (4.23.4)\n",
      "Requirement already satisfied: pyarrow>=7.0 in c:\\users\\nsgr6\\appdata\\local\\programs\\python\\python310\\lib\\site-packages (from streamlit) (14.0.1)\n",
      "Requirement already satisfied: requests<3,>=2.27 in c:\\users\\nsgr6\\appdata\\local\\programs\\python\\python310\\lib\\site-packages (from streamlit) (2.31.0)\n",
      "Requirement already satisfied: rich<14,>=10.14.0 in c:\\users\\nsgr6\\appdata\\local\\programs\\python\\python310\\lib\\site-packages (from streamlit) (13.7.1)\n",
      "Requirement already satisfied: tenacity<9,>=8.1.0 in c:\\users\\nsgr6\\appdata\\local\\programs\\python\\python310\\lib\\site-packages (from streamlit) (8.2.3)\n",
      "Collecting toml<2,>=0.10.1 (from streamlit)\n",
      "  Downloading toml-0.10.2-py2.py3-none-any.whl.metadata (7.1 kB)\n",
      "Requirement already satisfied: typing-extensions<5,>=4.3.0 in c:\\users\\nsgr6\\appdata\\local\\programs\\python\\python310\\lib\\site-packages (from streamlit) (4.8.0)\n",
      "Requirement already satisfied: gitpython!=3.1.19,<4,>=3.0.7 in c:\\users\\nsgr6\\appdata\\roaming\\python\\python310\\site-packages (from streamlit) (3.1.41)\n",
      "Collecting pydeck<1,>=0.8.0b4 (from streamlit)\n",
      "  Downloading pydeck-0.9.1-py2.py3-none-any.whl.metadata (4.1 kB)\n",
      "Requirement already satisfied: tornado<7,>=6.0.3 in c:\\users\\nsgr6\\appdata\\roaming\\python\\python310\\site-packages (from streamlit) (6.3.3)\n",
      "Collecting watchdog>=2.1.5 (from streamlit)\n",
      "  Downloading watchdog-4.0.1-py3-none-win_amd64.whl.metadata (37 kB)\n",
      "Requirement already satisfied: python-dateutil>=2.8.1 in c:\\users\\nsgr6\\appdata\\roaming\\python\\python310\\site-packages (from pandas) (2.8.2)\n",
      "Requirement already satisfied: pytz>=2020.1 in c:\\users\\nsgr6\\appdata\\local\\programs\\python\\python310\\lib\\site-packages (from pandas) (2023.3.post1)\n",
      "Requirement already satisfied: jinja2 in c:\\users\\nsgr6\\appdata\\local\\programs\\python\\python310\\lib\\site-packages (from altair<6,>=4.0->streamlit) (3.0.3)\n",
      "Requirement already satisfied: jsonschema>=3.0 in c:\\users\\nsgr6\\appdata\\local\\programs\\python\\python310\\lib\\site-packages (from altair<6,>=4.0->streamlit) (4.19.0)\n",
      "Requirement already satisfied: toolz in c:\\users\\nsgr6\\appdata\\local\\programs\\python\\python310\\lib\\site-packages (from altair<6,>=4.0->streamlit) (0.12.0)\n",
      "Requirement already satisfied: colorama in c:\\users\\nsgr6\\appdata\\roaming\\python\\python310\\site-packages (from click<9,>=7.0->streamlit) (0.4.6)\n",
      "Requirement already satisfied: gitdb<5,>=4.0.1 in c:\\users\\nsgr6\\appdata\\roaming\\python\\python310\\site-packages (from gitpython!=3.1.19,<4,>=3.0.7->streamlit) (4.0.11)\n",
      "Requirement already satisfied: six>=1.5 in c:\\users\\nsgr6\\appdata\\roaming\\python\\python310\\site-packages (from python-dateutil>=2.8.1->pandas) (1.16.0)\n",
      "Requirement already satisfied: charset-normalizer<4,>=2 in c:\\users\\nsgr6\\appdata\\local\\programs\\python\\python310\\lib\\site-packages (from requests<3,>=2.27->streamlit) (3.2.0)\n",
      "Requirement already satisfied: idna<4,>=2.5 in c:\\users\\nsgr6\\appdata\\roaming\\python\\python310\\site-packages (from requests<3,>=2.27->streamlit) (2.10)\n",
      "Requirement already satisfied: urllib3<3,>=1.21.1 in c:\\users\\nsgr6\\appdata\\local\\programs\\python\\python310\\lib\\site-packages (from requests<3,>=2.27->streamlit) (2.0.4)\n",
      "Requirement already satisfied: certifi>=2017.4.17 in c:\\users\\nsgr6\\appdata\\roaming\\python\\python310\\site-packages (from requests<3,>=2.27->streamlit) (2023.7.22)\n",
      "Requirement already satisfied: markdown-it-py>=2.2.0 in c:\\users\\nsgr6\\appdata\\local\\programs\\python\\python310\\lib\\site-packages (from rich<14,>=10.14.0->streamlit) (3.0.0)\n",
      "Requirement already satisfied: pygments<3.0.0,>=2.13.0 in c:\\users\\nsgr6\\appdata\\roaming\\python\\python310\\site-packages (from rich<14,>=10.14.0->streamlit) (2.16.1)\n",
      "Collecting smmap<6,>=3.0.1 (from gitdb<5,>=4.0.1->gitpython!=3.1.19,<4,>=3.0.7->streamlit)\n",
      "  Downloading smmap-5.0.1-py3-none-any.whl.metadata (4.3 kB)\n",
      "Requirement already satisfied: MarkupSafe>=2.0 in c:\\users\\nsgr6\\appdata\\local\\programs\\python\\python310\\lib\\site-packages (from jinja2->altair<6,>=4.0->streamlit) (2.1.3)\n",
      "Requirement already satisfied: attrs>=22.2.0 in c:\\users\\nsgr6\\appdata\\local\\programs\\python\\python310\\lib\\site-packages (from jsonschema>=3.0->altair<6,>=4.0->streamlit) (23.1.0)\n",
      "Requirement already satisfied: jsonschema-specifications>=2023.03.6 in c:\\users\\nsgr6\\appdata\\local\\programs\\python\\python310\\lib\\site-packages (from jsonschema>=3.0->altair<6,>=4.0->streamlit) (2023.7.1)\n",
      "Requirement already satisfied: referencing>=0.28.4 in c:\\users\\nsgr6\\appdata\\local\\programs\\python\\python310\\lib\\site-packages (from jsonschema>=3.0->altair<6,>=4.0->streamlit) (0.30.2)\n",
      "Requirement already satisfied: rpds-py>=0.7.1 in c:\\users\\nsgr6\\appdata\\local\\programs\\python\\python310\\lib\\site-packages (from jsonschema>=3.0->altair<6,>=4.0->streamlit) (0.10.3)\n",
      "Requirement already satisfied: mdurl~=0.1 in c:\\users\\nsgr6\\appdata\\local\\programs\\python\\python310\\lib\\site-packages (from markdown-it-py>=2.2.0->rich<14,>=10.14.0->streamlit) (0.1.2)\n",
      "Downloading streamlit-1.35.0-py2.py3-none-any.whl (8.6 MB)\n",
      "   ---------------------------------------- 0.0/8.6 MB ? eta -:--:--\n",
      "   ---------------------------------------- 0.1/8.6 MB ? eta -:--:--\n",
      "    --------------------------------------- 0.2/8.6 MB 2.5 MB/s eta 0:00:04\n",
      "   - -------------------------------------- 0.3/8.6 MB 2.5 MB/s eta 0:00:04\n",
      "   - -------------------------------------- 0.4/8.6 MB 2.3 MB/s eta 0:00:04\n",
      "   -- ------------------------------------- 0.6/8.6 MB 2.5 MB/s eta 0:00:04\n",
      "   --- ------------------------------------ 0.7/8.6 MB 2.8 MB/s eta 0:00:03\n",
      "   ---- ----------------------------------- 0.9/8.6 MB 3.1 MB/s eta 0:00:03\n",
      "   ----- ---------------------------------- 1.1/8.6 MB 3.0 MB/s eta 0:00:03\n",
      "   ----- ---------------------------------- 1.2/8.6 MB 3.2 MB/s eta 0:00:03\n",
      "   ------ --------------------------------- 1.4/8.6 MB 3.2 MB/s eta 0:00:03\n",
      "   ------- -------------------------------- 1.7/8.6 MB 3.3 MB/s eta 0:00:03\n",
      "   --------- ------------------------------ 2.0/8.6 MB 3.7 MB/s eta 0:00:02\n",
      "   ---------- ----------------------------- 2.2/8.6 MB 3.8 MB/s eta 0:00:02\n",
      "   ----------- ---------------------------- 2.5/8.6 MB 3.9 MB/s eta 0:00:02\n",
      "   ------------ --------------------------- 2.8/8.6 MB 4.1 MB/s eta 0:00:02\n",
      "   -------------- ------------------------- 3.0/8.6 MB 4.1 MB/s eta 0:00:02\n",
      "   --------------- ------------------------ 3.3/8.6 MB 4.2 MB/s eta 0:00:02\n",
      "   ----------------- ---------------------- 3.7/8.6 MB 4.4 MB/s eta 0:00:02\n",
      "   ------------------- -------------------- 4.2/8.6 MB 4.8 MB/s eta 0:00:01\n",
      "   --------------------- ------------------ 4.5/8.6 MB 4.9 MB/s eta 0:00:01\n",
      "   ----------------------- ---------------- 5.0/8.6 MB 5.1 MB/s eta 0:00:01\n",
      "   ------------------------- -------------- 5.5/8.6 MB 5.4 MB/s eta 0:00:01\n",
      "   --------------------------- ------------ 6.0/8.6 MB 5.6 MB/s eta 0:00:01\n",
      "   ------------------------------ --------- 6.5/8.6 MB 5.8 MB/s eta 0:00:01\n",
      "   -------------------------------- ------- 6.9/8.6 MB 6.0 MB/s eta 0:00:01\n",
      "   ---------------------------------- ----- 7.4/8.6 MB 6.2 MB/s eta 0:00:01\n",
      "   ------------------------------------ --- 7.9/8.6 MB 6.3 MB/s eta 0:00:01\n",
      "   ---------------------------------------  8.4/8.6 MB 6.5 MB/s eta 0:00:01\n",
      "   ---------------------------------------- 8.6/8.6 MB 6.4 MB/s eta 0:00:00\n",
      "Downloading blinker-1.8.2-py3-none-any.whl (9.5 kB)\n",
      "Downloading pydeck-0.9.1-py2.py3-none-any.whl (6.9 MB)\n",
      "   ---------------------------------------- 0.0/6.9 MB ? eta -:--:--\n",
      "   -- ------------------------------------- 0.5/6.9 MB 14.7 MB/s eta 0:00:01\n",
      "   ----- ---------------------------------- 1.0/6.9 MB 12.1 MB/s eta 0:00:01\n",
      "   -------- ------------------------------- 1.5/6.9 MB 11.8 MB/s eta 0:00:01\n",
      "   ----------- ---------------------------- 2.0/6.9 MB 11.8 MB/s eta 0:00:01\n",
      "   --------------- ------------------------ 2.7/6.9 MB 12.1 MB/s eta 0:00:01\n",
      "   ------------------ --------------------- 3.2/6.9 MB 11.9 MB/s eta 0:00:01\n",
      "   --------------------- ------------------ 3.7/6.9 MB 11.9 MB/s eta 0:00:01\n",
      "   ------------------------- -------------- 4.3/6.9 MB 12.0 MB/s eta 0:00:01\n",
      "   ---------------------------- ----------- 4.9/6.9 MB 12.0 MB/s eta 0:00:01\n",
      "   ------------------------------- -------- 5.5/6.9 MB 12.1 MB/s eta 0:00:01\n",
      "   ----------------------------------- ---- 6.1/6.9 MB 12.1 MB/s eta 0:00:01\n",
      "   -------------------------------------- - 6.7/6.9 MB 12.2 MB/s eta 0:00:01\n",
      "   ---------------------------------------- 6.9/6.9 MB 11.6 MB/s eta 0:00:00\n",
      "Downloading toml-0.10.2-py2.py3-none-any.whl (16 kB)\n",
      "Downloading watchdog-4.0.1-py3-none-win_amd64.whl (83 kB)\n",
      "   ---------------------------------------- 0.0/83.0 kB ? eta -:--:--\n",
      "   ---------------------------------------- 83.0/83.0 kB 4.5 MB/s eta 0:00:00\n",
      "Downloading smmap-5.0.1-py3-none-any.whl (24 kB)\n",
      "Installing collected packages: watchdog, toml, smmap, blinker, pydeck, streamlit\n",
      "Successfully installed blinker-1.8.2 pydeck-0.9.1 smmap-5.0.1 streamlit-1.35.0 toml-0.10.2 watchdog-4.0.1\n",
      "Note: you may need to restart the kernel to use updated packages.\n"
     ]
    },
    {
     "name": "stderr",
     "output_type": "stream",
     "text": [
      "WARNING: Ignoring invalid distribution -lotly (c:\\users\\nsgr6\\appdata\\local\\programs\\python\\python310\\lib\\site-packages)\n",
      "WARNING: Ignoring invalid distribution -lotly (c:\\users\\nsgr6\\appdata\\local\\programs\\python\\python310\\lib\\site-packages)\n",
      "\n",
      "[notice] A new release of pip is available: 23.3.2 -> 24.0\n",
      "[notice] To update, run: C:\\Users\\nsgr6\\AppData\\Local\\Programs\\Python\\Python310\\python.exe -m pip install --upgrade pip\n"
     ]
    }
   ],
   "source": [
    "#pip install streamlit joblib pandas"
   ]
  },
  {
   "cell_type": "markdown",
   "id": "8693d885",
   "metadata": {},
   "source": [
    "2. Streamlit Uygulamasının Hazırlanması\n",
    "\n",
    "Streamlit uygulamanız için bir Python dosyası oluşturun, örneğin app.py. Bu dosya içerisine aşağıdaki kodları ekleyin:"
   ]
  },
  {
   "cell_type": "code",
   "execution_count": 7,
   "id": "87958af5",
   "metadata": {
    "ExecuteTime": {
     "end_time": "2024-05-28T18:43:11.467765Z",
     "start_time": "2024-05-28T18:43:11.455055Z"
    }
   },
   "outputs": [],
   "source": [
    "# bu kisimi => VSCODE dan bir .py dosyasi acip oraya kaydetmek gerekiyor \n",
    "\n",
    "import streamlit as st\n",
    "import pandas as pd\n",
    "import joblib\n",
    "\n",
    "# Model ve encoder yükleme\n",
    "loaded_model = joblib.load('BuyBoxOran_model.pkl')\n",
    "\n",
    "# Başlık\n",
    "st.title('BuyBoxOran Prediction')\n",
    "\n",
    "# Kullanıcıdan veri alma\n",
    "st.header('Yeni Veri Girişi')\n",
    "price = st.number_input('Price', value=0.0)\n",
    "comparison_price_type = st.selectbox('Comparison Price Type', [\"Was Price\", \"Other\"])\n",
    "buy_box_item_price = st.number_input('Buy Box Item Price', value=0.0)\n",
    "ship_methods = st.selectbox('Ship Methods', [\"ALWAYS_TWO_DAYS\", \"NETWORK_GEO\", \"OTHER\"])\n",
    "shipping_weight = st.number_input('Shipping Weight', value=0.0)\n",
    "fulfillment_type = st.selectbox('Fulfillment Type', [\"WFS Eligible\", \"Walmart Fulfilled\", \"Seller Fulfilled\", \"Other\"])\n",
    "average_rating = st.number_input('Average Rating', value=0.0)\n",
    "cost = st.number_input('Cost', value=0.0)\n",
    "\n",
    "# Veriyi DataFrame'e çevirme\n",
    "new_data = pd.DataFrame({\n",
    "    \"Price\": [price],\n",
    "    \"Comparison_Price_Type\": [comparison_price_type],\n",
    "    \"Buy_Box_Item_Price\": [buy_box_item_price],\n",
    "    \"Ship_Methods\": [ship_methods],\n",
    "    \"Shipping_Weight\": [shipping_weight],\n",
    "    \"Fulfillment_Type\": [fulfillment_type],\n",
    "    \"Average_Rating\": [average_rating],\n",
    "    \"Cost\": [cost]\n",
    "})\n",
    "\n",
    "# Tahmin yapma\n",
    "if st.button('Tahmin Yap'):\n",
    "    predictions = loaded_model.predict(new_data)\n",
    "    predictions_proba = loaded_model.predict_proba(new_data)\n",
    "    st.write('Tahmin:', predictions[0])\n",
    "    st.write('Tahmin Olasılıkları:', predictions_proba)"
   ]
  },
  {
   "cell_type": "code",
   "execution_count": 6,
   "id": "69361868",
   "metadata": {
    "ExecuteTime": {
     "end_time": "2024-05-28T18:42:59.112914Z",
     "start_time": "2024-05-28T18:42:30.012505Z"
    }
   },
   "outputs": [
    {
     "name": "stdout",
     "output_type": "stream",
     "text": [
      "Collecting numpy==1.24.3\n",
      "  Downloading numpy-1.24.3-cp310-cp310-win_amd64.whl.metadata (5.6 kB)\n",
      "Downloading numpy-1.24.3-cp310-cp310-win_amd64.whl (14.8 MB)\n",
      "   ---------------------------------------- 0.0/14.8 MB ? eta -:--:--\n",
      "   ---------------------------------------- 0.1/14.8 MB 3.0 MB/s eta 0:00:05\n",
      "    --------------------------------------- 0.3/14.8 MB 3.8 MB/s eta 0:00:04\n",
      "   - -------------------------------------- 0.6/14.8 MB 4.6 MB/s eta 0:00:04\n",
      "   -- ------------------------------------- 0.7/14.8 MB 4.7 MB/s eta 0:00:03\n",
      "   -- ------------------------------------- 1.0/14.8 MB 4.7 MB/s eta 0:00:03\n",
      "   --- ------------------------------------ 1.3/14.8 MB 4.9 MB/s eta 0:00:03\n",
      "   ---- ----------------------------------- 1.6/14.8 MB 5.0 MB/s eta 0:00:03\n",
      "   ---- ----------------------------------- 1.8/14.8 MB 4.8 MB/s eta 0:00:03\n",
      "   ----- ---------------------------------- 2.1/14.8 MB 5.1 MB/s eta 0:00:03\n",
      "   ------ --------------------------------- 2.5/14.8 MB 5.4 MB/s eta 0:00:03\n",
      "   ------- -------------------------------- 2.9/14.8 MB 5.7 MB/s eta 0:00:03\n",
      "   -------- ------------------------------- 3.3/14.8 MB 6.0 MB/s eta 0:00:02\n",
      "   --------- ------------------------------ 3.7/14.8 MB 6.2 MB/s eta 0:00:02\n",
      "   ----------- ---------------------------- 4.2/14.8 MB 6.5 MB/s eta 0:00:02\n",
      "   ------------- -------------------------- 4.8/14.8 MB 7.0 MB/s eta 0:00:02\n",
      "   -------------- ------------------------- 5.4/14.8 MB 7.5 MB/s eta 0:00:02\n",
      "   ---------------- ----------------------- 6.0/14.8 MB 7.6 MB/s eta 0:00:02\n",
      "   ----------------- ---------------------- 6.6/14.8 MB 7.9 MB/s eta 0:00:02\n",
      "   ------------------- -------------------- 7.1/14.8 MB 8.1 MB/s eta 0:00:01\n",
      "   -------------------- ------------------- 7.7/14.8 MB 8.4 MB/s eta 0:00:01\n",
      "   ---------------------- ----------------- 8.3/14.8 MB 8.5 MB/s eta 0:00:01\n",
      "   ----------------------- ---------------- 8.7/14.8 MB 8.6 MB/s eta 0:00:01\n",
      "   ------------------------- -------------- 9.3/14.8 MB 8.7 MB/s eta 0:00:01\n",
      "   -------------------------- ------------- 9.8/14.8 MB 8.8 MB/s eta 0:00:01\n",
      "   --------------------------- ------------ 10.3/14.8 MB 9.1 MB/s eta 0:00:01\n",
      "   ---------------------------- ----------- 10.6/14.8 MB 9.2 MB/s eta 0:00:01\n",
      "   ------------------------------ --------- 11.2/14.8 MB 9.9 MB/s eta 0:00:01\n",
      "   ------------------------------- -------- 11.8/14.8 MB 10.4 MB/s eta 0:00:01\n",
      "   --------------------------------- ------ 12.4/14.8 MB 11.1 MB/s eta 0:00:01\n",
      "   ----------------------------------- ---- 13.0/14.8 MB 11.3 MB/s eta 0:00:01\n",
      "   ------------------------------------ --- 13.6/14.8 MB 11.5 MB/s eta 0:00:01\n",
      "   -------------------------------------- - 14.2/14.8 MB 11.9 MB/s eta 0:00:01\n",
      "   ---------------------------------------  14.8/14.8 MB 11.7 MB/s eta 0:00:01\n",
      "   ---------------------------------------- 14.8/14.8 MB 11.5 MB/s eta 0:00:00\n",
      "Installing collected packages: numpy\n",
      "  Attempting uninstall: numpy\n",
      "    Found existing installation: numpy 1.26.3\n",
      "    Uninstalling numpy-1.26.3:\n",
      "      Successfully uninstalled numpy-1.26.3\n",
      "Successfully installed numpy-1.24.3\n",
      "Note: you may need to restart the kernel to use updated packages.\n"
     ]
    },
    {
     "name": "stderr",
     "output_type": "stream",
     "text": [
      "WARNING: Ignoring invalid distribution -lotly (c:\\users\\nsgr6\\appdata\\local\\programs\\python\\python310\\lib\\site-packages)\n",
      "WARNING: Ignoring invalid distribution -lotly (c:\\users\\nsgr6\\appdata\\local\\programs\\python\\python310\\lib\\site-packages)\n",
      "  WARNING: Failed to remove contents in a temporary directory 'C:\\Users\\nsgr6\\AppData\\Local\\Programs\\Python\\Python310\\Lib\\site-packages\\~umpy.libs'.\n",
      "  You can safely remove it manually.\n",
      "  WARNING: Failed to remove contents in a temporary directory 'C:\\Users\\nsgr6\\AppData\\Local\\Programs\\Python\\Python310\\Lib\\site-packages\\~~mpy'.\n",
      "  You can safely remove it manually.\n",
      "ERROR: pip's dependency resolver does not currently take into account all the packages that are installed. This behaviour is the source of the following dependency conflicts.\n",
      "roboflow 1.1.18 requires python-dotenv, which is not installed.\n",
      "roboflow 1.1.18 requires python-magic, which is not installed.\n",
      "sahi 0.11.15 requires pybboxes==0.1.6, which is not installed.\n",
      "sahi 0.11.15 requires shapely>=1.8.0, which is not installed.\n",
      "sahi 0.11.15 requires terminaltables, which is not installed.\n",
      "yolov5 7.0.13 requires thop>=0.1.1, which is not installed.\n",
      "yolov5 7.0.13 requires torch>=1.7.0, which is not installed.\n",
      "yolov5 7.0.13 requires torchvision>=0.8.1, which is not installed.\n",
      "yolov5 7.0.13 requires ultralytics>=8.0.100, which is not installed.\n",
      "supervision 0.18.0 requires scipy<2.0.0,>=1.10.0; python_version >= \"3.9\", but you have scipy 1.8.1 which is incompatible.\n",
      "\n",
      "[notice] A new release of pip is available: 23.3.2 -> 24.0\n",
      "[notice] To update, run: C:\\Users\\nsgr6\\AppData\\Local\\Programs\\Python\\Python310\\python.exe -m pip install --upgrade pip\n"
     ]
    }
   ],
   "source": [
    "#pip install numpy==1.24.3"
   ]
  },
  {
   "cell_type": "markdown",
   "id": "d747b657",
   "metadata": {},
   "source": [
    "3. Streamlit Uygulamasını Çalıştırma\n",
    "\n",
    "Streamlit uygulamanızı çalıştırmak için terminalde aşağıdaki komutu kullanın:"
   ]
  },
  {
   "cell_type": "code",
   "execution_count": 9,
   "id": "3d2f4faa",
   "metadata": {
    "ExecuteTime": {
     "end_time": "2024-05-28T18:44:26.766185Z",
     "start_time": "2024-05-28T18:44:26.758580Z"
    }
   },
   "outputs": [
    {
     "ename": "SyntaxError",
     "evalue": "invalid syntax (3737097518.py, line 1)",
     "output_type": "error",
     "traceback": [
      "\u001b[1;36m  Cell \u001b[1;32mIn[9], line 1\u001b[1;36m\u001b[0m\n\u001b[1;33m    streamlit run app.py\u001b[0m\n\u001b[1;37m              ^\u001b[0m\n\u001b[1;31mSyntaxError\u001b[0m\u001b[1;31m:\u001b[0m invalid syntax\n"
     ]
    }
   ],
   "source": [
    "streamlit run app.py"
   ]
  },
  {
   "cell_type": "code",
   "execution_count": 8,
   "id": "7b37f3bc",
   "metadata": {
    "ExecuteTime": {
     "end_time": "2024-05-28T18:43:16.567784Z",
     "start_time": "2024-05-28T18:43:16.556689Z"
    }
   },
   "outputs": [
    {
     "ename": "SyntaxError",
     "evalue": "invalid syntax (3737097518.py, line 1)",
     "output_type": "error",
     "traceback": [
      "\u001b[1;36m  Cell \u001b[1;32mIn[8], line 1\u001b[1;36m\u001b[0m\n\u001b[1;33m    streamlit run app.py\u001b[0m\n\u001b[1;37m              ^\u001b[0m\n\u001b[1;31mSyntaxError\u001b[0m\u001b[1;31m:\u001b[0m invalid syntax\n"
     ]
    }
   ],
   "source": [
    "streamlit run app.py"
   ]
  },
  {
   "cell_type": "markdown",
   "id": "0e2ca381",
   "metadata": {},
   "source": [
    "4. Uygulamanızı Geliştirme ve Özelleştirme\n",
    "\n",
    "Uygulamanızı daha kullanıcı dostu hale getirmek için daha fazla özelleştirebilir ve ek özellikler ekleyebilirsiniz. Örneğin, girişlerin doğruluğunu kontrol edebilir, daha fazla açıklama ekleyebilir veya görselleştirmeler ekleyebilirsiniz.\n",
    "\n",
    "5. Uygulamanızı Dağıtma\n",
    "\n",
    "Uygulamanızı herkesin erişebileceği bir şekilde dağıtmak istiyorsanız, Streamlit Community Cloud veya diğer bulut servislerini (Heroku, AWS, Google Cloud Platform vb.) kullanabilirsiniz.\n",
    "\n",
    "Streamlit Community Cloud ile Dağıtım\n",
    "Streamlit Community Cloud kullanarak uygulamanızı ücretsiz olarak dağıtabilirsiniz. Bunun için:\n",
    "\n",
    "Streamlit Community Cloud web sitesine gidin.\n",
    "GitHub hesabınızı bağlayın ve depo olarak uygulamanızı içeren GitHub reposunu seçin.\n",
    "\n",
    "Deploy butonuna tıklayın ve uygulamanız anında canlıya alınmış olacaktır.\n",
    "\n",
    "Sonuç\n",
    "\n",
    "Yukarıdaki adımları takip ederek modelinizi Streamlit ile deploy edebilir ve web üzerinden erişilebilir hale getirebilirsiniz. Streamlit kullanarak hem hızlı hem de kullanıcı dostu bir arayüz oluşturabilirsiniz."
   ]
  },
  {
   "cell_type": "code",
   "execution_count": null,
   "id": "02c424ef",
   "metadata": {},
   "outputs": [],
   "source": []
  }
 ],
 "metadata": {
  "hide_input": false,
  "kernelspec": {
   "display_name": "Python (3.10.8)",
   "language": "python",
   "name": "3.10.8"
  },
  "language_info": {
   "codemirror_mode": {
    "name": "ipython",
    "version": 3
   },
   "file_extension": ".py",
   "mimetype": "text/x-python",
   "name": "python",
   "nbconvert_exporter": "python",
   "pygments_lexer": "ipython3",
   "version": "3.10.8"
  },
  "nbTranslate": {
   "displayLangs": [
    "*"
   ],
   "hotkey": "alt-t",
   "langInMainMenu": true,
   "sourceLang": "en",
   "targetLang": "fr",
   "useGoogleTranslate": true
  },
  "toc": {
   "base_numbering": 1,
   "nav_menu": {},
   "number_sections": true,
   "sideBar": true,
   "skip_h1_title": false,
   "title_cell": "Table of Contents",
   "title_sidebar": "Contents",
   "toc_cell": false,
   "toc_position": {},
   "toc_section_display": true,
   "toc_window_display": false
  }
 },
 "nbformat": 4,
 "nbformat_minor": 5
}
